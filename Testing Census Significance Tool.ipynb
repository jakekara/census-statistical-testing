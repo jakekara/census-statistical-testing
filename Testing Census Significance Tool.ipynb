{
 "cells": [
  {
   "cell_type": "markdown",
   "metadata": {},
   "source": [
    "# Testing statistical signficance of ACS changes\n",
    " \n",
    " \n",
    "I wrote acs_testing module using math here:\n",
    " \n",
    "* https://www2.census.gov/programs-surveys/acs/tech_docs/statistical_testing/2017StatisticalTesting5year.pdf\n",
    "\n",
    "to perform only the basic estimate difference calculation.\n",
    "\n",
    "I generated a sheet of results using the test tool here:\n",
    "\n",
    "* https://www.census.gov/programs-surveys/acs/guidance/statistical-testing-tool.html\n",
    "\n",
    "and I'm going to test it below."
   ]
  },
  {
   "cell_type": "code",
   "execution_count": 1,
   "metadata": {},
   "outputs": [],
   "source": [
    "from acs_testing.significance import Estimate, Difference"
   ]
  },
  {
   "cell_type": "code",
   "execution_count": 2,
   "metadata": {},
   "outputs": [],
   "source": [
    "import pandas as pd \n",
    "df = pd.read_csv(\"./data/vacant.csv\").set_index(\"town\")\n",
    "df.columns = \"vacant1\",\"moe1\",\"vacant2\",\"moe2\""
   ]
  },
  {
   "cell_type": "code",
   "execution_count": 3,
   "metadata": {},
   "outputs": [
    {
     "data": {
      "text/html": [
       "<div>\n",
       "<style scoped>\n",
       "    .dataframe tbody tr th:only-of-type {\n",
       "        vertical-align: middle;\n",
       "    }\n",
       "\n",
       "    .dataframe tbody tr th {\n",
       "        vertical-align: top;\n",
       "    }\n",
       "\n",
       "    .dataframe thead th {\n",
       "        text-align: right;\n",
       "    }\n",
       "</style>\n",
       "<table border=\"1\" class=\"dataframe\">\n",
       "  <thead>\n",
       "    <tr style=\"text-align: right;\">\n",
       "      <th></th>\n",
       "      <th>vacant1</th>\n",
       "      <th>moe1</th>\n",
       "      <th>vacant2</th>\n",
       "      <th>moe2</th>\n",
       "    </tr>\n",
       "    <tr>\n",
       "      <th>town</th>\n",
       "      <th></th>\n",
       "      <th></th>\n",
       "      <th></th>\n",
       "      <th></th>\n",
       "    </tr>\n",
       "  </thead>\n",
       "  <tbody>\n",
       "    <tr>\n",
       "      <th>Bethel</th>\n",
       "      <td>3.6</td>\n",
       "      <td>1.5</td>\n",
       "      <td>5.8</td>\n",
       "      <td>2.3</td>\n",
       "    </tr>\n",
       "    <tr>\n",
       "      <th>Bridgeport</th>\n",
       "      <td>13.1</td>\n",
       "      <td>0.9</td>\n",
       "      <td>13.4</td>\n",
       "      <td>0.9</td>\n",
       "    </tr>\n",
       "    <tr>\n",
       "      <th>Brookfield</th>\n",
       "      <td>8.6</td>\n",
       "      <td>3.1</td>\n",
       "      <td>6.9</td>\n",
       "      <td>3.0</td>\n",
       "    </tr>\n",
       "    <tr>\n",
       "      <th>Danbury</th>\n",
       "      <td>9.3</td>\n",
       "      <td>1.2</td>\n",
       "      <td>9.1</td>\n",
       "      <td>1.1</td>\n",
       "    </tr>\n",
       "    <tr>\n",
       "      <th>Darien</th>\n",
       "      <td>5.6</td>\n",
       "      <td>2.0</td>\n",
       "      <td>4.9</td>\n",
       "      <td>1.7</td>\n",
       "    </tr>\n",
       "  </tbody>\n",
       "</table>\n",
       "</div>"
      ],
      "text/plain": [
       "            vacant1  moe1  vacant2  moe2\n",
       "town                                    \n",
       "Bethel          3.6   1.5      5.8   2.3\n",
       "Bridgeport     13.1   0.9     13.4   0.9\n",
       "Brookfield      8.6   3.1      6.9   3.0\n",
       "Danbury         9.3   1.2      9.1   1.1\n",
       "Darien          5.6   2.0      4.9   1.7"
      ]
     },
     "execution_count": 3,
     "metadata": {},
     "output_type": "execute_result"
    }
   ],
   "source": [
    "df.head()"
   ]
  },
  {
   "cell_type": "code",
   "execution_count": 4,
   "metadata": {},
   "outputs": [],
   "source": [
    "df[\"sig_diff\"] = df.apply(lambda x: Difference(\n",
    "    Estimate(x[\"vacant1\"],x[\"moe1\"]),\n",
    "    Estimate(x[\"vacant2\"],x[\"moe2\"])\n",
    ").is_significant(), axis=1)"
   ]
  },
  {
   "cell_type": "code",
   "execution_count": 6,
   "metadata": {},
   "outputs": [],
   "source": [
    "df[\"z\"] = df.apply(lambda x: Difference(\n",
    "    Estimate(x[\"vacant1\"],x[\"moe1\"]),\n",
    "    Estimate(x[\"vacant2\"],x[\"moe2\"])\n",
    ").Z, axis=1)"
   ]
  },
  {
   "cell_type": "code",
   "execution_count": 7,
   "metadata": {},
   "outputs": [
    {
     "data": {
      "text/html": [
       "<div>\n",
       "<style scoped>\n",
       "    .dataframe tbody tr th:only-of-type {\n",
       "        vertical-align: middle;\n",
       "    }\n",
       "\n",
       "    .dataframe tbody tr th {\n",
       "        vertical-align: top;\n",
       "    }\n",
       "\n",
       "    .dataframe thead th {\n",
       "        text-align: right;\n",
       "    }\n",
       "</style>\n",
       "<table border=\"1\" class=\"dataframe\">\n",
       "  <thead>\n",
       "    <tr style=\"text-align: right;\">\n",
       "      <th></th>\n",
       "      <th>vacant1</th>\n",
       "      <th>moe1</th>\n",
       "      <th>vacant2</th>\n",
       "      <th>moe2</th>\n",
       "      <th>sig_diff</th>\n",
       "      <th>z</th>\n",
       "    </tr>\n",
       "    <tr>\n",
       "      <th>town</th>\n",
       "      <th></th>\n",
       "      <th></th>\n",
       "      <th></th>\n",
       "      <th></th>\n",
       "      <th></th>\n",
       "      <th></th>\n",
       "    </tr>\n",
       "  </thead>\n",
       "  <tbody>\n",
       "    <tr>\n",
       "      <th>Monroe</th>\n",
       "      <td>1.7</td>\n",
       "      <td>1.4</td>\n",
       "      <td>6.1</td>\n",
       "      <td>2.3</td>\n",
       "      <td>True</td>\n",
       "      <td>-2.688126</td>\n",
       "    </tr>\n",
       "    <tr>\n",
       "      <th>New Fairfield</th>\n",
       "      <td>13.2</td>\n",
       "      <td>2.7</td>\n",
       "      <td>17.4</td>\n",
       "      <td>2.5</td>\n",
       "      <td>True</td>\n",
       "      <td>-1.877612</td>\n",
       "    </tr>\n",
       "    <tr>\n",
       "      <th>Stamford</th>\n",
       "      <td>6.6</td>\n",
       "      <td>0.9</td>\n",
       "      <td>8.7</td>\n",
       "      <td>1.0</td>\n",
       "      <td>True</td>\n",
       "      <td>-2.567710</td>\n",
       "    </tr>\n",
       "    <tr>\n",
       "      <th>Trumbull</th>\n",
       "      <td>2.2</td>\n",
       "      <td>1.2</td>\n",
       "      <td>4.0</td>\n",
       "      <td>1.2</td>\n",
       "      <td>True</td>\n",
       "      <td>-1.744786</td>\n",
       "    </tr>\n",
       "    <tr>\n",
       "      <th>Avon</th>\n",
       "      <td>2.5</td>\n",
       "      <td>1.5</td>\n",
       "      <td>5.3</td>\n",
       "      <td>2.2</td>\n",
       "      <td>True</td>\n",
       "      <td>-1.729820</td>\n",
       "    </tr>\n",
       "  </tbody>\n",
       "</table>\n",
       "</div>"
      ],
      "text/plain": [
       "               vacant1  moe1  vacant2  moe2  sig_diff         z\n",
       "town                                                           \n",
       "Monroe             1.7   1.4      6.1   2.3      True -2.688126\n",
       "New Fairfield     13.2   2.7     17.4   2.5      True -1.877612\n",
       "Stamford           6.6   0.9      8.7   1.0      True -2.567710\n",
       "Trumbull           2.2   1.2      4.0   1.2      True -1.744786\n",
       "Avon               2.5   1.5      5.3   2.2      True -1.729820"
      ]
     },
     "execution_count": 7,
     "metadata": {},
     "output_type": "execute_result"
    }
   ],
   "source": [
    "df[df[\"sig_diff\"]].head()"
   ]
  },
  {
   "cell_type": "code",
   "execution_count": 8,
   "metadata": {},
   "outputs": [
    {
     "name": "stdout",
     "output_type": "stream",
     "text": [
      "0\n"
     ]
    }
   ],
   "source": [
    "# Test against this spreadsheet, generated by \n",
    "# the Census significance tester\n",
    "\n",
    "check = pd.read_csv(\"data/results.tsv\",sep=\"\\t\").set_index(\"Label\")\n",
    "check[\"sig_diff_check\"] = check[\"Statistically Different?\"] == \"Yes\"\n",
    "combined = check.join(df)\n",
    "print (len(combined[combined[\"sig_diff_check\"] != combined[\"sig_diff\"]]))"
   ]
  },
  {
   "cell_type": "code",
   "execution_count": 9,
   "metadata": {},
   "outputs": [
    {
     "data": {
      "text/plain": [
       "Label\n",
       "Bethel           1.32\n",
       "Bridgeport       0.39\n",
       "Brookfield       0.65\n",
       "Danbury          0.20\n",
       "Darien           0.44\n",
       "Easton           0.43\n",
       "Fairfield        0.66\n",
       "Greenwich        1.21\n",
       "Monroe           2.69\n",
       "New Canaan       0.47\n",
       "New Fairfield    1.88\n",
       "Newtown          1.03\n",
       "Norwalk          0.12\n",
       "Redding          0.24\n",
       "Ridgefield       1.00\n",
       "Shelton          1.23\n",
       "Sherman          0.06\n",
       "Stamford         2.57\n",
       "Stratford        1.34\n",
       "Trumbull         1.74\n",
       "Weston           0.95\n",
       "Westport         0.46\n",
       "Wilton           1.45\n",
       "Avon             1.73\n",
       "Berlin           0.25\n",
       "Bloomfield       0.57\n",
       "Bristol          1.55\n",
       "Burlington       2.29\n",
       "Canton           0.35\n",
       "East Granby      0.96\n",
       "                 ... \n",
       "Voluntown        1.19\n",
       "Waterford        0.06\n",
       "Andover          2.26\n",
       "Bolton           1.07\n",
       "Columbia         0.05\n",
       "Coventry         0.96\n",
       "Ellington        1.66\n",
       "Hebron           0.39\n",
       "Mansfield        0.00\n",
       "Somers           0.14\n",
       "Stafford         1.18\n",
       "Tolland          3.42\n",
       "Union            2.26\n",
       "Vernon           1.87\n",
       "Willington       1.39\n",
       "Ashford          0.38\n",
       "Brooklyn         1.22\n",
       "Canterbury       1.60\n",
       "Chaplin          0.69\n",
       "Eastford         0.02\n",
       "Hampton          0.94\n",
       "Killingly        0.71\n",
       "Plainfield       0.35\n",
       "Pomfret          0.56\n",
       "Putnam           0.08\n",
       "Scotland         1.49\n",
       "Sterling         2.34\n",
       "Thompson         0.26\n",
       "Windham          0.53\n",
       "Woodstock        0.75\n",
       "Name: Z-score, Length: 169, dtype: float64"
      ]
     },
     "execution_count": 9,
     "metadata": {},
     "output_type": "execute_result"
    }
   ],
   "source": [
    "combined[\"Z-score\"]"
   ]
  },
  {
   "cell_type": "code",
   "execution_count": 10,
   "metadata": {},
   "outputs": [
    {
     "name": "stdout",
     "output_type": "stream",
     "text": [
      "0\n"
     ]
    }
   ],
   "source": [
    "combined[\"zdiff\"] = combined.apply(lambda x: max(\n",
    "    x[\"z\"],\n",
    "    x[\"Z-score\"]\n",
    ") - max(\n",
    "    x[\"z\"],x[\"Z-score\"]\n",
    "), axis=1)\n",
    "\n",
    "print (len(combined[combined[\"zdiff\"] > 0]))"
   ]
  },
  {
   "cell_type": "code",
   "execution_count": null,
   "metadata": {},
   "outputs": [],
   "source": []
  },
  {
   "cell_type": "code",
   "execution_count": 11,
   "metadata": {},
   "outputs": [
    {
     "data": {
      "text/html": [
       "<div>\n",
       "<style scoped>\n",
       "    .dataframe tbody tr th:only-of-type {\n",
       "        vertical-align: middle;\n",
       "    }\n",
       "\n",
       "    .dataframe tbody tr th {\n",
       "        vertical-align: top;\n",
       "    }\n",
       "\n",
       "    .dataframe thead th {\n",
       "        text-align: right;\n",
       "    }\n",
       "</style>\n",
       "<table border=\"1\" class=\"dataframe\">\n",
       "  <thead>\n",
       "    <tr style=\"text-align: right;\">\n",
       "      <th></th>\n",
       "      <th>SEB</th>\n",
       "      <th>Second SE</th>\n",
       "    </tr>\n",
       "    <tr>\n",
       "      <th>Label</th>\n",
       "      <th></th>\n",
       "      <th></th>\n",
       "    </tr>\n",
       "  </thead>\n",
       "  <tbody>\n",
       "    <tr>\n",
       "      <th>Bethel</th>\n",
       "      <td>1.398176</td>\n",
       "      <td>1.40</td>\n",
       "    </tr>\n",
       "    <tr>\n",
       "      <th>Bridgeport</th>\n",
       "      <td>0.547112</td>\n",
       "      <td>0.55</td>\n",
       "    </tr>\n",
       "    <tr>\n",
       "      <th>Brookfield</th>\n",
       "      <td>1.823708</td>\n",
       "      <td>1.82</td>\n",
       "    </tr>\n",
       "    <tr>\n",
       "      <th>Danbury</th>\n",
       "      <td>0.668693</td>\n",
       "      <td>0.67</td>\n",
       "    </tr>\n",
       "    <tr>\n",
       "      <th>Darien</th>\n",
       "      <td>1.033435</td>\n",
       "      <td>1.03</td>\n",
       "    </tr>\n",
       "  </tbody>\n",
       "</table>\n",
       "</div>"
      ],
      "text/plain": [
       "                 SEB  Second SE\n",
       "Label                          \n",
       "Bethel      1.398176       1.40\n",
       "Bridgeport  0.547112       0.55\n",
       "Brookfield  1.823708       1.82\n",
       "Danbury     0.668693       0.67\n",
       "Darien      1.033435       1.03"
      ]
     },
     "execution_count": 11,
     "metadata": {},
     "output_type": "execute_result"
    }
   ],
   "source": [
    "combined[\"SEA\"] = combined.apply(\n",
    "    lambda x: Estimate(x[\"vacant1\"],\n",
    "                       x[\"moe1\"]).se,\n",
    "    axis=1\n",
    ")\n",
    "combined[\"SEB\"] = combined.apply(\n",
    "    lambda x: Estimate(x[\"vacant2\"],\n",
    "                       x[\"moe2\"]).se,\n",
    "    axis=1\n",
    ")\n",
    "combined[[\"SEB\",\"Second SE\"]].head()"
   ]
  },
  {
   "cell_type": "code",
   "execution_count": 12,
   "metadata": {},
   "outputs": [],
   "source": [
    "# Those look pretty good"
   ]
  },
  {
   "cell_type": "code",
   "execution_count": 13,
   "metadata": {},
   "outputs": [
    {
     "data": {
      "text/html": [
       "<div>\n",
       "<style scoped>\n",
       "    .dataframe tbody tr th:only-of-type {\n",
       "        vertical-align: middle;\n",
       "    }\n",
       "\n",
       "    .dataframe tbody tr th {\n",
       "        vertical-align: top;\n",
       "    }\n",
       "\n",
       "    .dataframe thead th {\n",
       "        text-align: right;\n",
       "    }\n",
       "</style>\n",
       "<table border=\"1\" class=\"dataframe\">\n",
       "  <thead>\n",
       "    <tr style=\"text-align: right;\">\n",
       "      <th></th>\n",
       "      <th>SEA</th>\n",
       "      <th>First SE</th>\n",
       "    </tr>\n",
       "    <tr>\n",
       "      <th>Label</th>\n",
       "      <th></th>\n",
       "      <th></th>\n",
       "    </tr>\n",
       "  </thead>\n",
       "  <tbody>\n",
       "    <tr>\n",
       "      <th>Scotland</th>\n",
       "      <td>2.492401</td>\n",
       "      <td>2.49</td>\n",
       "    </tr>\n",
       "    <tr>\n",
       "      <th>Sterling</th>\n",
       "      <td>3.525836</td>\n",
       "      <td>3.53</td>\n",
       "    </tr>\n",
       "    <tr>\n",
       "      <th>Thompson</th>\n",
       "      <td>2.066869</td>\n",
       "      <td>2.07</td>\n",
       "    </tr>\n",
       "    <tr>\n",
       "      <th>Windham</th>\n",
       "      <td>1.458967</td>\n",
       "      <td>1.46</td>\n",
       "    </tr>\n",
       "    <tr>\n",
       "      <th>Woodstock</th>\n",
       "      <td>2.431611</td>\n",
       "      <td>2.43</td>\n",
       "    </tr>\n",
       "  </tbody>\n",
       "</table>\n",
       "</div>"
      ],
      "text/plain": [
       "                SEA  First SE\n",
       "Label                        \n",
       "Scotland   2.492401      2.49\n",
       "Sterling   3.525836      3.53\n",
       "Thompson   2.066869      2.07\n",
       "Windham    1.458967      1.46\n",
       "Woodstock  2.431611      2.43"
      ]
     },
     "execution_count": 13,
     "metadata": {},
     "output_type": "execute_result"
    }
   ],
   "source": [
    "combined[[\"SEA\",\"First SE\"]].tail()"
   ]
  },
  {
   "cell_type": "code",
   "execution_count": 14,
   "metadata": {},
   "outputs": [],
   "source": [
    "# Those look pretty good, too"
   ]
  },
  {
   "cell_type": "code",
   "execution_count": null,
   "metadata": {},
   "outputs": [],
   "source": []
  },
  {
   "cell_type": "code",
   "execution_count": null,
   "metadata": {},
   "outputs": [],
   "source": []
  }
 ],
 "metadata": {
  "kernelspec": {
   "display_name": "Python 2",
   "language": "python",
   "name": "python2"
  },
  "language_info": {
   "codemirror_mode": {
    "name": "ipython",
    "version": 2
   },
   "file_extension": ".py",
   "mimetype": "text/x-python",
   "name": "python",
   "nbconvert_exporter": "python",
   "pygments_lexer": "ipython2",
   "version": "2.7.10"
  }
 },
 "nbformat": 4,
 "nbformat_minor": 2
}
