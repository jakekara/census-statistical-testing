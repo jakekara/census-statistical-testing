{
 "cells": [
  {
   "cell_type": "markdown",
   "metadata": {},
   "source": [
    "# Testing statistical signficance of ACS changes\n",
    "\n",
    "#### Part 1: Code\n",
    "\n",
    "Writing code to test statistical significance as described here:\n",
    "\n",
    "* https://www2.census.gov/programs-surveys/acs/tech_docs/statistical_testing/2017StatisticalTesting5year.pdf\n",
    "\n",
    "#### Part 2: Testing output of code:\n",
    "\n",
    "Testing the results against this Excel sheet testing tool:\n",
    "\n",
    "* https://www.census.gov/programs-surveys/acs/guidance/statistical-testing-tool.html"
   ]
  },
  {
   "cell_type": "markdown",
   "metadata": {},
   "source": [
    "# Part 1: Code"
   ]
  },
  {
   "cell_type": "code",
   "execution_count": 11,
   "metadata": {},
   "outputs": [
    {
     "name": "stdout",
     "output_type": "stream",
     "text": [
      "0.607902735562\n",
      "(9.0, 11.0)\n"
     ]
    }
   ],
   "source": [
    "class Estimate:\n",
    "    \n",
    "    def __init__(self, value, moe, Z=1.645):\n",
    "        self.value = float(value)\n",
    "        self.moe = float(moe)\n",
    "        self.se = float(self.moe) / Z\n",
    "        self.max = self.value + abs(self.moe)\n",
    "        self.min = self.value - abs(self.moe)\n",
    "        self.ci = (self.min, self.max)\n",
    "        \n",
    "        \"\"\" Standard Error = Margin of Error / Z\n",
    "\n",
    "        where Z = 1.645 for 2006 and later years as well as all multiyear \n",
    "        estimates and Z = 1.65 for 2005 and earlier years.\"\"\"\n",
    "        \n",
    "        \n",
    "A = Estimate(10,1)\n",
    "B = Estimate(11,1)\n",
    "print (A.se)\n",
    "print (A.ci)"
   ]
  },
  {
   "cell_type": "code",
   "execution_count": 22,
   "metadata": {},
   "outputs": [
    {
     "name": "stdout",
     "output_type": "stream",
     "text": [
      "True\n"
     ]
    }
   ],
   "source": []
  },
  {
   "cell_type": "code",
   "execution_count": 44,
   "metadata": {},
   "outputs": [
    {
     "data": {
      "text/plain": [
       "0.03658502785450984"
      ]
     },
     "execution_count": 44,
     "metadata": {},
     "output_type": "execute_result"
    }
   ],
   "source": [
    "class Proportion(object):\n",
    "    \n",
    "    def calculate_se(self):\n",
    "        if self.P == 1:\n",
    "            return self.A.se / self.se.B.value\n",
    "        \n",
    "        coef = 1 / self.B.value\n",
    "        \n",
    "        radicand = np.power(self.A.se, 2) - np.power(self.P, 2) * np.power(self.B.se, 2)\n",
    "        \n",
    "        if radicand < 0:\n",
    "            radicand = np.power(self.A.se, 2) + np.power(self.P, 2) * np.power(self.B.se, 2)\n",
    "            \n",
    "        return coef * radicand\n",
    "\n",
    "    \n",
    "    def __init__(self, A, B):\n",
    "        self.A = A\n",
    "        self.B = A\n",
    "        self.P = A.value / B.value\n",
    "        self.se = self.calculate_se()\n",
    "        self.value = self.P\n",
    "\n",
    "p = Proportion(\n",
    "    Estimate(10,1),\n",
    "    Estimate(100,1)\n",
    ")\n",
    "\n",
    "p.se"
   ]
  },
  {
   "cell_type": "code",
   "execution_count": 45,
   "metadata": {},
   "outputs": [],
   "source": [
    "class Percentage (Proportion):\n",
    "    \n",
    "    def calculate_se(self):\n",
    "        return super(Percentage, self).calculate_se() * 100"
   ]
  },
  {
   "cell_type": "code",
   "execution_count": 46,
   "metadata": {},
   "outputs": [
    {
     "data": {
      "text/plain": [
       "3.6585027854509837"
      ]
     },
     "execution_count": 46,
     "metadata": {},
     "output_type": "execute_result"
    }
   ],
   "source": [
    "p2 = Percentage(\n",
    "    Estimate(10,1),\n",
    "    Estimate(100,1)\n",
    ")\n",
    "\n",
    "p2.se"
   ]
  },
  {
   "cell_type": "code",
   "execution_count": 47,
   "metadata": {},
   "outputs": [
    {
     "name": "stdout",
     "output_type": "stream",
     "text": [
      "-1.1631906550518707\n",
      "False\n",
      "True\n"
     ]
    }
   ],
   "source": [
    "import numpy as np\n",
    "class Difference:\n",
    "    \n",
    "    def Z(self):\n",
    "        num = (self.A.value - self.B.value) \n",
    "        denom = np.sqrt(\n",
    "            np.power(self.A.se, 2) +\\\n",
    "            np.power(self.B.se, 2)\n",
    "        )\n",
    "        \n",
    "        return num / denom\n",
    "    \n",
    "    def is_significant(self, thresh=1.645):\n",
    "        return abs(self.Z()) > 1.645\n",
    "    \n",
    "    def __init__(self, A, B):\n",
    "        self.A = A\n",
    "        self.B = B\n",
    "        \n",
    "print Difference(A, B).Z()\n",
    "print Difference(A, B).is_significant()\n",
    "print Difference(\n",
    "    Estimate(10,1), \n",
    "    Estimate(12,1)\n",
    ").is_significant()"
   ]
  },
  {
   "cell_type": "code",
   "execution_count": 50,
   "metadata": {},
   "outputs": [
    {
     "name": "stdout",
     "output_type": "stream",
     "text": [
      "-1.2805483798954937e-07\n",
      "False\n"
     ]
    }
   ],
   "source": [
    "pdiff = Difference(\n",
    "    Proportion(\n",
    "        Estimate(4567, 432),\n",
    "        Estimate(350123456,120000)),\n",
    "    Proportion(\n",
    "        Estimate(5678,543),\n",
    "        Estimate(351123456,121000)\n",
    "    )\n",
    ")\n",
    "\n",
    "print pdiff.Z()\n",
    "print pdiff.is_significant()"
   ]
  },
  {
   "cell_type": "code",
   "execution_count": null,
   "metadata": {},
   "outputs": [],
   "source": [
    "# Test against a spreadsheet\n",
    "#22147046\t+/-234,312\t\n",
    "#17997953\t+/-199,112\n",
    "#STD ERRORS: \n",
    "#   142438.91\n",
    "#   121,040.73\n",
    "#ZSCORE"
   ]
  },
  {
   "cell_type": "code",
   "execution_count": 51,
   "metadata": {},
   "outputs": [
    {
     "data": {
      "text/plain": [
       "142438.90577507598"
      ]
     },
     "execution_count": 51,
     "metadata": {},
     "output_type": "execute_result"
    }
   ],
   "source": [
    "Estimate(22147046,234312).se"
   ]
  },
  {
   "cell_type": "code",
   "execution_count": 53,
   "metadata": {},
   "outputs": [
    {
     "data": {
      "text/plain": [
       "121040.72948328267"
      ]
     },
     "execution_count": 53,
     "metadata": {},
     "output_type": "execute_result"
    }
   ],
   "source": [
    "Estimate(17997953,199112).se"
   ]
  },
  {
   "cell_type": "code",
   "execution_count": 55,
   "metadata": {},
   "outputs": [
    {
     "data": {
      "text/plain": [
       "22.196964278935535"
      ]
     },
     "execution_count": 55,
     "metadata": {},
     "output_type": "execute_result"
    }
   ],
   "source": [
    "Difference(\n",
    "    Estimate(22147046,234312),\n",
    "    Estimate(17997953,199112)\n",
    ").Z()"
   ]
  },
  {
   "cell_type": "code",
   "execution_count": 60,
   "metadata": {},
   "outputs": [
    {
     "data": {
      "text/plain": [
       "True"
      ]
     },
     "execution_count": 60,
     "metadata": {},
     "output_type": "execute_result"
    }
   ],
   "source": [
    "Difference(\n",
    "    Estimate(91,1),\n",
    "    Estimate(93,0.9)\n",
    ").is_significant()"
   ]
  },
  {
   "cell_type": "code",
   "execution_count": 64,
   "metadata": {},
   "outputs": [],
   "source": [
    "import pandas as pd \n",
    "df = pd.read_csv(\"./data/vacant.csv\").set_index(\"town\")\n",
    "df.columns = \"vacant1\",\"moe1\",\"vacant2\",\"moe2\""
   ]
  },
  {
   "cell_type": "code",
   "execution_count": 65,
   "metadata": {},
   "outputs": [
    {
     "data": {
      "text/html": [
       "<div>\n",
       "<style scoped>\n",
       "    .dataframe tbody tr th:only-of-type {\n",
       "        vertical-align: middle;\n",
       "    }\n",
       "\n",
       "    .dataframe tbody tr th {\n",
       "        vertical-align: top;\n",
       "    }\n",
       "\n",
       "    .dataframe thead th {\n",
       "        text-align: right;\n",
       "    }\n",
       "</style>\n",
       "<table border=\"1\" class=\"dataframe\">\n",
       "  <thead>\n",
       "    <tr style=\"text-align: right;\">\n",
       "      <th></th>\n",
       "      <th>vacant1</th>\n",
       "      <th>moe1</th>\n",
       "      <th>vacant2</th>\n",
       "      <th>moe2</th>\n",
       "    </tr>\n",
       "    <tr>\n",
       "      <th>town</th>\n",
       "      <th></th>\n",
       "      <th></th>\n",
       "      <th></th>\n",
       "      <th></th>\n",
       "    </tr>\n",
       "  </thead>\n",
       "  <tbody>\n",
       "    <tr>\n",
       "      <th>Bethel</th>\n",
       "      <td>3.6</td>\n",
       "      <td>1.5</td>\n",
       "      <td>5.8</td>\n",
       "      <td>2.3</td>\n",
       "    </tr>\n",
       "    <tr>\n",
       "      <th>Bridgeport</th>\n",
       "      <td>13.1</td>\n",
       "      <td>0.9</td>\n",
       "      <td>13.4</td>\n",
       "      <td>0.9</td>\n",
       "    </tr>\n",
       "    <tr>\n",
       "      <th>Brookfield</th>\n",
       "      <td>8.6</td>\n",
       "      <td>3.1</td>\n",
       "      <td>6.9</td>\n",
       "      <td>3.0</td>\n",
       "    </tr>\n",
       "    <tr>\n",
       "      <th>Danbury</th>\n",
       "      <td>9.3</td>\n",
       "      <td>1.2</td>\n",
       "      <td>9.1</td>\n",
       "      <td>1.1</td>\n",
       "    </tr>\n",
       "    <tr>\n",
       "      <th>Darien</th>\n",
       "      <td>5.6</td>\n",
       "      <td>2.0</td>\n",
       "      <td>4.9</td>\n",
       "      <td>1.7</td>\n",
       "    </tr>\n",
       "  </tbody>\n",
       "</table>\n",
       "</div>"
      ],
      "text/plain": [
       "            vacant1  moe1  vacant2  moe2\n",
       "town                                    \n",
       "Bethel          3.6   1.5      5.8   2.3\n",
       "Bridgeport     13.1   0.9     13.4   0.9\n",
       "Brookfield      8.6   3.1      6.9   3.0\n",
       "Danbury         9.3   1.2      9.1   1.1\n",
       "Darien          5.6   2.0      4.9   1.7"
      ]
     },
     "execution_count": 65,
     "metadata": {},
     "output_type": "execute_result"
    }
   ],
   "source": [
    "df.head()"
   ]
  },
  {
   "cell_type": "code",
   "execution_count": 71,
   "metadata": {},
   "outputs": [],
   "source": [
    "df[\"sig_diff\"] = df.apply(lambda x: Difference(\n",
    "    Estimate(x[\"vacant1\"],x[\"moe1\"]),\n",
    "    Estimate(x[\"vacant2\"],x[\"moe2\"])\n",
    ").is_significant(), axis=1)"
   ]
  },
  {
   "cell_type": "code",
   "execution_count": 79,
   "metadata": {},
   "outputs": [],
   "source": [
    "df[\"z\"] = df.apply(lambda x: Difference(\n",
    "    Estimate(x[\"vacant1\"],x[\"moe1\"]),\n",
    "    Estimate(x[\"vacant2\"],x[\"moe2\"])\n",
    ").Z(), axis=1)"
   ]
  },
  {
   "cell_type": "code",
   "execution_count": 85,
   "metadata": {},
   "outputs": [
    {
     "data": {
      "text/html": [
       "<div>\n",
       "<style scoped>\n",
       "    .dataframe tbody tr th:only-of-type {\n",
       "        vertical-align: middle;\n",
       "    }\n",
       "\n",
       "    .dataframe tbody tr th {\n",
       "        vertical-align: top;\n",
       "    }\n",
       "\n",
       "    .dataframe thead th {\n",
       "        text-align: right;\n",
       "    }\n",
       "</style>\n",
       "<table border=\"1\" class=\"dataframe\">\n",
       "  <thead>\n",
       "    <tr style=\"text-align: right;\">\n",
       "      <th></th>\n",
       "      <th>vacant1</th>\n",
       "      <th>moe1</th>\n",
       "      <th>vacant2</th>\n",
       "      <th>moe2</th>\n",
       "      <th>sig_diff</th>\n",
       "      <th>z</th>\n",
       "    </tr>\n",
       "    <tr>\n",
       "      <th>town</th>\n",
       "      <th></th>\n",
       "      <th></th>\n",
       "      <th></th>\n",
       "      <th></th>\n",
       "      <th></th>\n",
       "      <th></th>\n",
       "    </tr>\n",
       "  </thead>\n",
       "  <tbody>\n",
       "    <tr>\n",
       "      <th>Monroe</th>\n",
       "      <td>1.7</td>\n",
       "      <td>1.4</td>\n",
       "      <td>6.1</td>\n",
       "      <td>2.3</td>\n",
       "      <td>True</td>\n",
       "      <td>-2.688126</td>\n",
       "    </tr>\n",
       "    <tr>\n",
       "      <th>New Fairfield</th>\n",
       "      <td>13.2</td>\n",
       "      <td>2.7</td>\n",
       "      <td>17.4</td>\n",
       "      <td>2.5</td>\n",
       "      <td>True</td>\n",
       "      <td>-1.877612</td>\n",
       "    </tr>\n",
       "    <tr>\n",
       "      <th>Stamford</th>\n",
       "      <td>6.6</td>\n",
       "      <td>0.9</td>\n",
       "      <td>8.7</td>\n",
       "      <td>1.0</td>\n",
       "      <td>True</td>\n",
       "      <td>-2.567710</td>\n",
       "    </tr>\n",
       "    <tr>\n",
       "      <th>Trumbull</th>\n",
       "      <td>2.2</td>\n",
       "      <td>1.2</td>\n",
       "      <td>4.0</td>\n",
       "      <td>1.2</td>\n",
       "      <td>True</td>\n",
       "      <td>-1.744786</td>\n",
       "    </tr>\n",
       "    <tr>\n",
       "      <th>Avon</th>\n",
       "      <td>2.5</td>\n",
       "      <td>1.5</td>\n",
       "      <td>5.3</td>\n",
       "      <td>2.2</td>\n",
       "      <td>True</td>\n",
       "      <td>-1.729820</td>\n",
       "    </tr>\n",
       "  </tbody>\n",
       "</table>\n",
       "</div>"
      ],
      "text/plain": [
       "               vacant1  moe1  vacant2  moe2  sig_diff         z\n",
       "town                                                           \n",
       "Monroe             1.7   1.4      6.1   2.3      True -2.688126\n",
       "New Fairfield     13.2   2.7     17.4   2.5      True -1.877612\n",
       "Stamford           6.6   0.9      8.7   1.0      True -2.567710\n",
       "Trumbull           2.2   1.2      4.0   1.2      True -1.744786\n",
       "Avon               2.5   1.5      5.3   2.2      True -1.729820"
      ]
     },
     "execution_count": 85,
     "metadata": {},
     "output_type": "execute_result"
    }
   ],
   "source": [
    "df[df[\"sig_diff\"]].head()"
   ]
  },
  {
   "cell_type": "code",
   "execution_count": 105,
   "metadata": {},
   "outputs": [
    {
     "name": "stdout",
     "output_type": "stream",
     "text": [
      "0\n"
     ]
    }
   ],
   "source": [
    "# Test against this spreadsheet, generated by \n",
    "# the Census significance tester\n",
    "\n",
    "check = pd.read_csv(\"data/results.tsv\",sep=\"\\t\").set_index(\"Label\")\n",
    "check[\"sig_diff_check\"] = check[\"Statistically Different?\"] == \"Yes\"\n",
    "combined = check.join(df)\n",
    "print (len(combined[combined[\"sig_diff_check\"] != combined[\"sig_diff\"]]))"
   ]
  },
  {
   "cell_type": "code",
   "execution_count": null,
   "metadata": {},
   "outputs": [],
   "source": [
    "combined[\"Z-score\"]"
   ]
  },
  {
   "cell_type": "code",
   "execution_count": 114,
   "metadata": {},
   "outputs": [
    {
     "name": "stdout",
     "output_type": "stream",
     "text": [
      "0\n"
     ]
    }
   ],
   "source": [
    "combined[\"zdiff\"] = combined.apply(lambda x: max(\n",
    "    x[\"z\"],\n",
    "    x[\"Z-score\"]\n",
    ") - max(\n",
    "    x[\"z\"],x[\"Z-score\"]\n",
    "), axis=1)\n",
    "\n",
    "print (len(combined[combined[\"zdiff\"] > 0]))"
   ]
  },
  {
   "cell_type": "code",
   "execution_count": null,
   "metadata": {},
   "outputs": [],
   "source": []
  },
  {
   "cell_type": "code",
   "execution_count": 119,
   "metadata": {},
   "outputs": [
    {
     "data": {
      "text/html": [
       "<div>\n",
       "<style scoped>\n",
       "    .dataframe tbody tr th:only-of-type {\n",
       "        vertical-align: middle;\n",
       "    }\n",
       "\n",
       "    .dataframe tbody tr th {\n",
       "        vertical-align: top;\n",
       "    }\n",
       "\n",
       "    .dataframe thead th {\n",
       "        text-align: right;\n",
       "    }\n",
       "</style>\n",
       "<table border=\"1\" class=\"dataframe\">\n",
       "  <thead>\n",
       "    <tr style=\"text-align: right;\">\n",
       "      <th></th>\n",
       "      <th>SEB</th>\n",
       "      <th>Second SE</th>\n",
       "    </tr>\n",
       "    <tr>\n",
       "      <th>Label</th>\n",
       "      <th></th>\n",
       "      <th></th>\n",
       "    </tr>\n",
       "  </thead>\n",
       "  <tbody>\n",
       "    <tr>\n",
       "      <th>Bethel</th>\n",
       "      <td>1.398176</td>\n",
       "      <td>1.40</td>\n",
       "    </tr>\n",
       "    <tr>\n",
       "      <th>Bridgeport</th>\n",
       "      <td>0.547112</td>\n",
       "      <td>0.55</td>\n",
       "    </tr>\n",
       "    <tr>\n",
       "      <th>Brookfield</th>\n",
       "      <td>1.823708</td>\n",
       "      <td>1.82</td>\n",
       "    </tr>\n",
       "    <tr>\n",
       "      <th>Danbury</th>\n",
       "      <td>0.668693</td>\n",
       "      <td>0.67</td>\n",
       "    </tr>\n",
       "    <tr>\n",
       "      <th>Darien</th>\n",
       "      <td>1.033435</td>\n",
       "      <td>1.03</td>\n",
       "    </tr>\n",
       "  </tbody>\n",
       "</table>\n",
       "</div>"
      ],
      "text/plain": [
       "                 SEB  Second SE\n",
       "Label                          \n",
       "Bethel      1.398176       1.40\n",
       "Bridgeport  0.547112       0.55\n",
       "Brookfield  1.823708       1.82\n",
       "Danbury     0.668693       0.67\n",
       "Darien      1.033435       1.03"
      ]
     },
     "execution_count": 119,
     "metadata": {},
     "output_type": "execute_result"
    }
   ],
   "source": [
    "combined[\"SEA\"] = combined.apply(\n",
    "    lambda x: Estimate(x[\"vacant1\"],\n",
    "                       x[\"moe1\"]).se,\n",
    "    axis=1\n",
    ")\n",
    "combined[\"SEB\"] = combined.apply(\n",
    "    lambda x: Estimate(x[\"vacant2\"],\n",
    "                       x[\"moe2\"]).se,\n",
    "    axis=1\n",
    ")\n",
    "combined[[\"SEB\",\"Second SE\"]].head()"
   ]
  },
  {
   "cell_type": "code",
   "execution_count": 123,
   "metadata": {},
   "outputs": [],
   "source": [
    "# Those look pretty good\n"
   ]
  },
  {
   "cell_type": "code",
   "execution_count": 124,
   "metadata": {},
   "outputs": [
    {
     "data": {
      "text/html": [
       "<div>\n",
       "<style scoped>\n",
       "    .dataframe tbody tr th:only-of-type {\n",
       "        vertical-align: middle;\n",
       "    }\n",
       "\n",
       "    .dataframe tbody tr th {\n",
       "        vertical-align: top;\n",
       "    }\n",
       "\n",
       "    .dataframe thead th {\n",
       "        text-align: right;\n",
       "    }\n",
       "</style>\n",
       "<table border=\"1\" class=\"dataframe\">\n",
       "  <thead>\n",
       "    <tr style=\"text-align: right;\">\n",
       "      <th></th>\n",
       "      <th>SEA</th>\n",
       "      <th>First SE</th>\n",
       "    </tr>\n",
       "    <tr>\n",
       "      <th>Label</th>\n",
       "      <th></th>\n",
       "      <th></th>\n",
       "    </tr>\n",
       "  </thead>\n",
       "  <tbody>\n",
       "    <tr>\n",
       "      <th>Scotland</th>\n",
       "      <td>2.492401</td>\n",
       "      <td>2.49</td>\n",
       "    </tr>\n",
       "    <tr>\n",
       "      <th>Sterling</th>\n",
       "      <td>3.525836</td>\n",
       "      <td>3.53</td>\n",
       "    </tr>\n",
       "    <tr>\n",
       "      <th>Thompson</th>\n",
       "      <td>2.066869</td>\n",
       "      <td>2.07</td>\n",
       "    </tr>\n",
       "    <tr>\n",
       "      <th>Windham</th>\n",
       "      <td>1.458967</td>\n",
       "      <td>1.46</td>\n",
       "    </tr>\n",
       "    <tr>\n",
       "      <th>Woodstock</th>\n",
       "      <td>2.431611</td>\n",
       "      <td>2.43</td>\n",
       "    </tr>\n",
       "  </tbody>\n",
       "</table>\n",
       "</div>"
      ],
      "text/plain": [
       "                SEA  First SE\n",
       "Label                        \n",
       "Scotland   2.492401      2.49\n",
       "Sterling   3.525836      3.53\n",
       "Thompson   2.066869      2.07\n",
       "Windham    1.458967      1.46\n",
       "Woodstock  2.431611      2.43"
      ]
     },
     "execution_count": 124,
     "metadata": {},
     "output_type": "execute_result"
    }
   ],
   "source": [
    "combined[[\"SEA\",\"First SE\"]].tail()"
   ]
  },
  {
   "cell_type": "code",
   "execution_count": null,
   "metadata": {},
   "outputs": [],
   "source": []
  }
 ],
 "metadata": {
  "kernelspec": {
   "display_name": "Python 2",
   "language": "python",
   "name": "python2"
  },
  "language_info": {
   "codemirror_mode": {
    "name": "ipython",
    "version": 2
   },
   "file_extension": ".py",
   "mimetype": "text/x-python",
   "name": "python",
   "nbconvert_exporter": "python",
   "pygments_lexer": "ipython2",
   "version": "2.7.10"
  }
 },
 "nbformat": 4,
 "nbformat_minor": 2
}
